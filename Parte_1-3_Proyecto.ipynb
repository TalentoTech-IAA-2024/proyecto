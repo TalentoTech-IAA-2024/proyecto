{
  "cells": [
    {
      "cell_type": "markdown",
      "metadata": {
        "id": "tFH8KJG4YGzR"
      },
      "source": [
        "# Proyecto final Talento Tech\n",
        "\n",
        "**Estudiantes:**\n",
        "\n",
        "Juan Sebastian Ladino Mendieta\n",
        "\n",
        "Lizeth Daniela Castellanos Alfonso\n"
      ]
    },
    {
      "cell_type": "markdown",
      "metadata": {
        "id": "ggSCag19W7w4"
      },
      "source": [
        "# Punto 1\n",
        "Despliegue de modelos de regresión lineal y clasificación utilizando Scikit-Learn y XGBoost\n",
        "\n",
        "*   En estos modelos de clasificación y regresión es importante desplegar métodos de hiperparámetros como Grid Search y Random Search\n",
        "*   Caso de estudio: https://www.kaggle.com/datasets/mssmartypants/rice-type-classification\n"
      ]
    },
    {
      "cell_type": "markdown",
      "metadata": {
        "id": "fuJiTnB-W9cB"
      },
      "source": [
        "# Punto 2:\n",
        "\n",
        "Despliegue un clustering K-Means para el siguiente caso de estudio. De modo que se pueda perfilar los grupos del clúster.\n",
        "\n",
        "*   Caso de estudio: https://www.kaggle.com/datasets/harrywang/wine-dataset-for-clustering"
      ]
    },
    {
      "cell_type": "markdown",
      "metadata": {
        "id": "y3704WpSXm_Q"
      },
      "source": [
        "# Punto 3:\n",
        "\n",
        "Implementación de un sistema de recomendación con Scikit-surprise\n",
        "\n",
        "*   Caso de estudio: https://www.kaggle.com/datasets/arashnic/book-recommendation-dataset/data?select=Ratings.csv"
      ]
    },
    {
      "cell_type": "markdown",
      "metadata": {
        "id": "Io84Vap5XnG5"
      },
      "source": [
        "# Punto 4:\n",
        "\n",
        "Desplegar para el siguiente caso de estudio un modelo de Deep learning con redes neuronales convolucionales.\n",
        "\n",
        "*   Es importante mencionar que para este caso debe desplegar una arquitectura propia para la red neuronal convolucional.\n",
        "*   Por otra parte, debe desplegar por lo menos 3 arquitecturas vistas en clase para el caso de estudio\n",
        "*   Caso de estudio: https://www.kaggle.com/datasets/phucthaiv02/butterfly-image-classification/data"
      ]
    },
    {
      "cell_type": "markdown",
      "metadata": {
        "id": "hEjxXHrHXnLP"
      },
      "source": [
        "# Punto 5:\n",
        "\n",
        " Desplegar para el siguiente caso de estudio una red neuronal recurrente con arquitectura LSTM y otra con GRU\n",
        "\n",
        "*   Caso de estudio: https://www.kaggle.com/datasets/sid321axn/gold-price-prediction-dataset\n",
        "*   Realizar la predicción para el precio de la columna de la Adj Close en el dataset"
      ]
    }
  ],
  "metadata": {
    "colab": {
      "provenance": []
    },
    "kernelspec": {
      "display_name": "Python 3",
      "name": "python3"
    },
    "language_info": {
      "name": "python"
    }
  },
  "nbformat": 4,
  "nbformat_minor": 0
}
