{
  "cells": [
    {
      "cell_type": "markdown",
      "metadata": {
        "id": "tFH8KJG4YGzR"
      },
      "source": [
        "# Proyecto final Talento Tech\n",
        "\n",
        "**Estudiantes:**\n",
        "\n",
        "Juan Sebastian Ladino Mendieta\n",
        "\n",
        "Lizeth Daniela Castellanos Alfonso\n"
      ]
    },
    {
      "cell_type": "markdown",
      "metadata": {
        "id": "ggSCag19W7w4"
      },
      "source": [
        "# Punto 6\n",
        "Desplegar un modelo de machine learning de clasificación spam/no-spam con técnicas de procesamiento de lenguaje natural y count vectorizer \n",
        "\n",
        "*   Caso de estudio: https://www.kaggle.com/datasets/mfaisalqureshi/spam-email\n"
      ]
    },
    {
      "cell_type": "markdown",
      "metadata": {
        "id": "fuJiTnB-W9cB"
      },
      "source": [
        "# Punto 7:\n",
        "\n",
        "Despliegue mediante Transformers por Hugging Face 4 pipelines de tareas relacionadas con análisis de sentimiento, resumen de texto, clasificación de documentos y traducción automática."
      ]
    },
    {
      "cell_type": "markdown",
      "metadata": {
        "id": "y3704WpSXm_Q"
      },
      "source": [
        "# Punto 8:\n",
        "\n",
        "Diseñe un asistente virtual personalizado con OpenAI y Langchain. En este asistente se va a pasar como contexto el siguiente informe relacionado a los trabajos con Inteligencia Artificial.\n",
        "\n",
        "*   Documento en PDF: https://www.oecd-ilibrary.org/docserver/9c86de40-en.pdf?expires=1724622592&id=id&accname=guest&checksum=D11C5D06FA533A0A144EC9FCB4796CF7"
      ]
    },
    {
      "cell_type": "markdown",
      "metadata": {
        "id": "Io84Vap5XnG5"
      },
      "source": [
        "# Punto 9:\n",
        "\n",
        "Realice un procesamiento de imágenes. En este sentido, puede tomar 5 imágenes de su preferencia (Preferiblemente a color y en .jpeg ) para aplicar los siguientes métodos.\n",
        "\n",
        "*   Realice un histograma para analizar la intensidad de los colores RGB\n",
        "*   Obtenga el negativo de cada una de las imágenes\n",
        "*   Obtenga el umbral de cada imagen\n",
        "*   Obtenga los bordes de las imágenes (Con la función de sobel)\n",
        "*   Aplique la detección de contornos con la función de Canny"
      ]
    },
    {
      "cell_type": "markdown",
      "metadata": {
        "id": "hEjxXHrHXnLP"
      },
      "source": [
        "# Punto 10:\n",
        "\n",
        " Despliegue un modelo de visión por computadora para la detección de objetos con YOLO10.\n",
        "\n",
        "*   Para validar la evidencia de este ítem puede tomar un pantallazo a su pantalla donde se pueda verificar la detección de objetos con YOLO"
      ]
    }
  ],
  "metadata": {
    "colab": {
      "provenance": []
    },
    "kernelspec": {
      "display_name": "Python 3",
      "name": "python3"
    },
    "language_info": {
      "name": "python"
    }
  },
  "nbformat": 4,
  "nbformat_minor": 0
}
