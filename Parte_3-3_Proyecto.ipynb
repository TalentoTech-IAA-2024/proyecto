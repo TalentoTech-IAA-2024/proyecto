{
  "cells": [
    {
      "cell_type": "markdown",
      "metadata": {
        "id": "tFH8KJG4YGzR"
      },
      "source": [
        "# Proyecto final Talento Tech\n",
        "\n",
        "**Estudiantes:**\n",
        "\n",
        "Juan Sebastian Ladino Mendieta\n",
        "\n",
        "Lizeth Daniela Castellanos Alfonso\n"
      ]
    },
    {
      "cell_type": "markdown",
      "metadata": {
        "id": "ggSCag19W7w4"
      },
      "source": [
        "# Punto 11\n",
        "Evalué con los principios de AI Ethics Toolkit para el caso de YOLOV10 y para el caso de estudio de SPAM (punto 6) los elementos éticos a considerar con estos modelos.\n"
      ]
    },
    {
      "cell_type": "markdown",
      "metadata": {
        "id": "fuJiTnB-W9cB"
      },
      "source": [
        "# Punto 12:\n",
        "\n",
        "Basado en los dos casos que vimos de la serie de black mirror qué elementos consideran que violan la privacidad y temas éticos con la inteligencia artificl/tecnología"
      ]
    },
    {
      "cell_type": "markdown",
      "metadata": {
        "id": "y3704WpSXm_Q"
      },
      "source": [
        "# Punto 13:\n",
        "\n",
        "¿En el caso de los temas vistos en el bootcamp que criterios de privacidad y regulaciones considera qué deben ser manejadas para un uso adecuado de la Inteligencia Artificial? (Justifique su respuesta)"
      ]
    },
    {
      "cell_type": "markdown",
      "metadata": {
        "id": "Io84Vap5XnG5"
      },
      "source": [
        "# Punto 14:\n",
        "\n",
        "En el caso de las nuevas tecnologías de IA despliegue un modelo con llama 3.1 utilizando trasnformers para personalizar un LLM con el tema de su preferencia "
      ]
    }
  ],
  "metadata": {
    "colab": {
      "provenance": []
    },
    "kernelspec": {
      "display_name": "Python 3",
      "name": "python3"
    },
    "language_info": {
      "name": "python"
    }
  },
  "nbformat": 4,
  "nbformat_minor": 0
}
